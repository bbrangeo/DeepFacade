{
 "cells": [
  {
   "cell_type": "code",
   "execution_count": 1,
   "metadata": {},
   "outputs": [],
   "source": [
    "import os\n",
    "import glob\n",
    "imagelists =sorted(list(map(lambda x:x.replace('.jpg',''),glob.glob(os.path.join('./', 'images', '*.jpg')))))\n",
    "masklists = sorted(list(map(lambda x:x.replace('_mask.png',''),glob.glob(os.path.join('.', 'masks', '*.png')))))\n",
    "# print(list(zip(imagelists,masklists)))\n",
    "union = set([x.split('/')[-1] for x in imagelists])&set([x.split('/')[-1] for x in masklists])"
   ]
  },
  {
   "cell_type": "code",
   "execution_count": 6,
   "metadata": {},
   "outputs": [
    {
     "data": {
      "text/plain": [
       "104"
      ]
     },
     "execution_count": 6,
     "metadata": {},
     "output_type": "execute_result"
    }
   ],
   "source": [
    "len(union)"
   ]
  },
  {
   "cell_type": "code",
   "execution_count": 8,
   "metadata": {},
   "outputs": [
    {
     "data": {
      "text/plain": [
       "[('./images/monge_1', './masks/monge_1'),\n",
       " ('./images/monge_10', './masks/monge_10'),\n",
       " ('./images/monge_101', './masks/monge_101'),\n",
       " ('./images/monge_102', './masks/monge_102'),\n",
       " ('./images/monge_103', './masks/monge_103'),\n",
       " ('./images/monge_104', './masks/monge_104'),\n",
       " ('./images/monge_105', './masks/monge_105'),\n",
       " ('./images/monge_106', './masks/monge_106'),\n",
       " ('./images/monge_107', './masks/monge_107'),\n",
       " ('./images/monge_108', './masks/monge_108'),\n",
       " ('./images/monge_11', './masks/monge_11'),\n",
       " ('./images/monge_110', './masks/monge_110'),\n",
       " ('./images/monge_111', './masks/monge_111'),\n",
       " ('./images/monge_112', './masks/monge_112'),\n",
       " ('./images/monge_114', './masks/monge_114'),\n",
       " ('./images/monge_115', './masks/monge_115'),\n",
       " ('./images/monge_117', './masks/monge_117'),\n",
       " ('./images/monge_118', './masks/monge_118'),\n",
       " ('./images/monge_119', './masks/monge_119'),\n",
       " ('./images/monge_119bis', './masks/monge_119bis'),\n",
       " ('./images/monge_12', './masks/monge_12'),\n",
       " ('./images/monge_13', './masks/monge_13'),\n",
       " ('./images/monge_14', './masks/monge_14'),\n",
       " ('./images/monge_15', './masks/monge_15'),\n",
       " ('./images/monge_16', './masks/monge_16'),\n",
       " ('./images/monge_17', './masks/monge_17'),\n",
       " ('./images/monge_18', './masks/monge_18'),\n",
       " ('./images/monge_19', './masks/monge_19'),\n",
       " ('./images/monge_2', './masks/monge_2'),\n",
       " ('./images/monge_20', './masks/monge_20'),\n",
       " ('./images/monge_21', './masks/monge_21'),\n",
       " ('./images/monge_23', './masks/monge_23'),\n",
       " ('./images/monge_24', './masks/monge_24'),\n",
       " ('./images/monge_25', './masks/monge_25'),\n",
       " ('./images/monge_26', './masks/monge_26'),\n",
       " ('./images/monge_27', './masks/monge_27'),\n",
       " ('./images/monge_28', './masks/monge_28'),\n",
       " ('./images/monge_29', './masks/monge_29'),\n",
       " ('./images/monge_29bis', './masks/monge_29bis'),\n",
       " ('./images/monge_3', './masks/monge_3'),\n",
       " ('./images/monge_30', './masks/monge_30'),\n",
       " ('./images/monge_31', './masks/monge_31'),\n",
       " ('./images/monge_32', './masks/monge_32'),\n",
       " ('./images/monge_33', './masks/monge_33'),\n",
       " ('./images/monge_34', './masks/monge_34'),\n",
       " ('./images/monge_35', './masks/monge_35'),\n",
       " ('./images/monge_36', './masks/monge_36'),\n",
       " ('./images/monge_37', './masks/monge_37'),\n",
       " ('./images/monge_38', './masks/monge_38'),\n",
       " ('./images/monge_39', './masks/monge_39'),\n",
       " ('./images/monge_4', './masks/monge_4'),\n",
       " ('./images/monge_40', './masks/monge_40'),\n",
       " ('./images/monge_41', './masks/monge_41'),\n",
       " ('./images/monge_42', './masks/monge_42'),\n",
       " ('./images/monge_43', './masks/monge_43'),\n",
       " ('./images/monge_44', './masks/monge_44'),\n",
       " ('./images/monge_45', './masks/monge_45'),\n",
       " ('./images/monge_46', './masks/monge_46'),\n",
       " ('./images/monge_47', './masks/monge_47'),\n",
       " ('./images/monge_48', './masks/monge_48'),\n",
       " ('./images/monge_5', './masks/monge_5'),\n",
       " ('./images/monge_50', './masks/monge_50'),\n",
       " ('./images/monge_51', './masks/monge_53'),\n",
       " ('./images/monge_52', './masks/monge_54'),\n",
       " ('./images/monge_53', './masks/monge_55'),\n",
       " ('./images/monge_54', './masks/monge_56'),\n",
       " ('./images/monge_55', './masks/monge_57'),\n",
       " ('./images/monge_56', './masks/monge_58'),\n",
       " ('./images/monge_57', './masks/monge_59'),\n",
       " ('./images/monge_58', './masks/monge_6'),\n",
       " ('./images/monge_59', './masks/monge_60'),\n",
       " ('./images/monge_6', './masks/monge_61'),\n",
       " ('./images/monge_60', './masks/monge_62'),\n",
       " ('./images/monge_61', './masks/monge_63'),\n",
       " ('./images/monge_62', './masks/monge_64'),\n",
       " ('./images/monge_63', './masks/monge_65'),\n",
       " ('./images/monge_64', './masks/monge_66'),\n",
       " ('./images/monge_65', './masks/monge_67'),\n",
       " ('./images/monge_66', './masks/monge_68'),\n",
       " ('./images/monge_67', './masks/monge_69'),\n",
       " ('./images/monge_68', './masks/monge_7'),\n",
       " ('./images/monge_69', './masks/monge_70'),\n",
       " ('./images/monge_7', './masks/monge_71'),\n",
       " ('./images/monge_70', './masks/monge_72'),\n",
       " ('./images/monge_71', './masks/monge_73'),\n",
       " ('./images/monge_72', './masks/monge_74'),\n",
       " ('./images/monge_73', './masks/monge_75'),\n",
       " ('./images/monge_74', './masks/monge_76'),\n",
       " ('./images/monge_75', './masks/monge_77'),\n",
       " ('./images/monge_75bis', './masks/monge_78'),\n",
       " ('./images/monge_76', './masks/monge_79'),\n",
       " ('./images/monge_77', './masks/monge_79bis'),\n",
       " ('./images/monge_78', './masks/monge_8'),\n",
       " ('./images/monge_79', './masks/monge_80'),\n",
       " ('./images/monge_79bis', './masks/monge_81'),\n",
       " ('./images/monge_8', './masks/monge_82'),\n",
       " ('./images/monge_80', './masks/monge_83'),\n",
       " ('./images/monge_81', './masks/monge_86'),\n",
       " ('./images/monge_82', './masks/monge_87'),\n",
       " ('./images/monge_83', './masks/monge_9'),\n",
       " ('./images/monge_85', './masks/monge_91'),\n",
       " ('./images/monge_86', './masks/monge_96'),\n",
       " ('./images/monge_87', './masks/monge_97'),\n",
       " ('./images/monge_89', './masks/monge_99')]"
      ]
     },
     "execution_count": 8,
     "metadata": {},
     "output_type": "execute_result"
    }
   ],
   "source": [
    "list(zip(imagelists,masklists))"
   ]
  },
  {
   "cell_type": "code",
   "execution_count": 10,
   "metadata": {},
   "outputs": [
    {
     "data": {
      "text/plain": [
       "104"
      ]
     },
     "execution_count": 10,
     "metadata": {},
     "output_type": "execute_result"
    }
   ],
   "source": [
    "len(masklists)"
   ]
  },
  {
   "cell_type": "code",
   "execution_count": null,
   "metadata": {},
   "outputs": [],
   "source": []
  }
 ],
 "metadata": {
  "kernelspec": {
   "display_name": "Python 3",
   "language": "python",
   "name": "python3"
  },
  "language_info": {
   "codemirror_mode": {
    "name": "ipython",
    "version": 3
   },
   "file_extension": ".py",
   "mimetype": "text/x-python",
   "name": "python",
   "nbconvert_exporter": "python",
   "pygments_lexer": "ipython3",
   "version": "3.6.4"
  }
 },
 "nbformat": 4,
 "nbformat_minor": 2
}
